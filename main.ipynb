{
 "cells": [
  {
   "cell_type": "code",
   "execution_count": 10,
   "metadata": {},
   "outputs": [],
   "source": [
    "# importing Libraries\n",
    "import pandas as pd\n",
    "import numpy as np\n",
    "import matplotlib.pyplot as plt\n",
    "import seaborn as sns"
   ]
  },
  {
   "cell_type": "code",
   "execution_count": 11,
   "metadata": {},
   "outputs": [
    {
     "data": {
      "text/html": [
       "<div>\n",
       "<style scoped>\n",
       "    .dataframe tbody tr th:only-of-type {\n",
       "        vertical-align: middle;\n",
       "    }\n",
       "\n",
       "    .dataframe tbody tr th {\n",
       "        vertical-align: top;\n",
       "    }\n",
       "\n",
       "    .dataframe thead th {\n",
       "        text-align: right;\n",
       "    }\n",
       "</style>\n",
       "<table border=\"1\" class=\"dataframe\">\n",
       "  <thead>\n",
       "    <tr style=\"text-align: right;\">\n",
       "      <th></th>\n",
       "      <th>ID</th>\n",
       "      <th>Data</th>\n",
       "      <th>Love</th>\n",
       "      <th>Joy</th>\n",
       "      <th>Surprise</th>\n",
       "      <th>Anger</th>\n",
       "      <th>Sadness</th>\n",
       "      <th>Fear</th>\n",
       "      <th>Topic</th>\n",
       "      <th>Domain</th>\n",
       "    </tr>\n",
       "  </thead>\n",
       "  <tbody>\n",
       "    <tr>\n",
       "      <th>0</th>\n",
       "      <td>5454</td>\n",
       "      <td>লকাল বাস ভালো এটা থেকে</td>\n",
       "      <td>0</td>\n",
       "      <td>0</td>\n",
       "      <td>0.0</td>\n",
       "      <td>0.0</td>\n",
       "      <td>1</td>\n",
       "      <td>0</td>\n",
       "      <td>Travel</td>\n",
       "      <td>Youtube</td>\n",
       "    </tr>\n",
       "    <tr>\n",
       "      <th>1</th>\n",
       "      <td>22549</td>\n",
       "      <td>কত অভিজানই তো চলে কিন্তু ওয়াসার পানির অভিজান ক...</td>\n",
       "      <td>0</td>\n",
       "      <td>0</td>\n",
       "      <td>0.0</td>\n",
       "      <td>0.0</td>\n",
       "      <td>1</td>\n",
       "      <td>0</td>\n",
       "      <td>Politics</td>\n",
       "      <td>Youtube</td>\n",
       "    </tr>\n",
       "    <tr>\n",
       "      <th>2</th>\n",
       "      <td>7033</td>\n",
       "      <td>বিয়ের মহল ছেড়ে তিনি বিস্রাম নিতে চলে যান (৬ ...</td>\n",
       "      <td>0</td>\n",
       "      <td>0</td>\n",
       "      <td>0.0</td>\n",
       "      <td>1.0</td>\n",
       "      <td>0</td>\n",
       "      <td>0</td>\n",
       "      <td>Personal</td>\n",
       "      <td>Facebook</td>\n",
       "    </tr>\n",
       "    <tr>\n",
       "      <th>3</th>\n",
       "      <td>21114</td>\n",
       "      <td>চাচাজি তো কেবল মাকে ধর্ষণ করেছেন</td>\n",
       "      <td>0</td>\n",
       "      <td>0</td>\n",
       "      <td>0.0</td>\n",
       "      <td>0.0</td>\n",
       "      <td>1</td>\n",
       "      <td>0</td>\n",
       "      <td>Education</td>\n",
       "      <td>Facebook</td>\n",
       "    </tr>\n",
       "    <tr>\n",
       "      <th>4</th>\n",
       "      <td>23683</td>\n",
       "      <td>সত্যিকার মানুষ তারাই ভাই</td>\n",
       "      <td>0</td>\n",
       "      <td>1</td>\n",
       "      <td>0.0</td>\n",
       "      <td>0.0</td>\n",
       "      <td>0</td>\n",
       "      <td>0</td>\n",
       "      <td>Personal</td>\n",
       "      <td>Youtube</td>\n",
       "    </tr>\n",
       "  </tbody>\n",
       "</table>\n",
       "</div>"
      ],
      "text/plain": [
       "      ID                                               Data Love Joy  \\\n",
       "0   5454                             লকাল বাস ভালো এটা থেকে    0   0   \n",
       "1  22549  কত অভিজানই তো চলে কিন্তু ওয়াসার পানির অভিজান ক...    0   0   \n",
       "2   7033  বিয়ের মহল ছেড়ে তিনি বিস্রাম নিতে চলে যান (৬ ...    0   0   \n",
       "3  21114                   চাচাজি তো কেবল মাকে ধর্ষণ করেছেন    0   0   \n",
       "4  23683                           সত্যিকার মানুষ তারাই ভাই    0   1   \n",
       "\n",
       "   Surprise  Anger Sadness  Fear      Topic    Domain  \n",
       "0       0.0    0.0       1     0     Travel   Youtube  \n",
       "1       0.0    0.0       1     0   Politics   Youtube  \n",
       "2       0.0    1.0       0     0   Personal  Facebook  \n",
       "3       0.0    0.0       1     0  Education  Facebook  \n",
       "4       0.0    0.0       0     0   Personal   Youtube  "
      ]
     },
     "execution_count": 11,
     "metadata": {},
     "output_type": "execute_result"
    }
   ],
   "source": [
    "# loading and reading dataset\n",
    "df = pd.read_csv(\"Bangla Emotion Dataset.csv\")\n",
    "df.head()"
   ]
  },
  {
   "cell_type": "code",
   "execution_count": 12,
   "metadata": {},
   "outputs": [
    {
     "data": {
      "text/plain": [
       "(20651, 10)"
      ]
     },
     "execution_count": 12,
     "metadata": {},
     "output_type": "execute_result"
    }
   ],
   "source": [
    "df.shape"
   ]
  },
  {
   "cell_type": "code",
   "execution_count": 16,
   "metadata": {},
   "outputs": [
    {
     "data": {
      "text/html": [
       "<div>\n",
       "<style scoped>\n",
       "    .dataframe tbody tr th:only-of-type {\n",
       "        vertical-align: middle;\n",
       "    }\n",
       "\n",
       "    .dataframe tbody tr th {\n",
       "        vertical-align: top;\n",
       "    }\n",
       "\n",
       "    .dataframe thead th {\n",
       "        text-align: right;\n",
       "    }\n",
       "</style>\n",
       "<table border=\"1\" class=\"dataframe\">\n",
       "  <thead>\n",
       "    <tr style=\"text-align: right;\">\n",
       "      <th></th>\n",
       "      <th>ID</th>\n",
       "      <th>Surprise</th>\n",
       "      <th>Anger</th>\n",
       "      <th>Fear</th>\n",
       "    </tr>\n",
       "  </thead>\n",
       "  <tbody>\n",
       "    <tr>\n",
       "      <th>count</th>\n",
       "      <td>20651.000000</td>\n",
       "      <td>20650.000000</td>\n",
       "      <td>20650.000000</td>\n",
       "      <td>20651.000000</td>\n",
       "    </tr>\n",
       "    <tr>\n",
       "      <th>mean</th>\n",
       "      <td>14128.574113</td>\n",
       "      <td>0.049201</td>\n",
       "      <td>0.196804</td>\n",
       "      <td>0.017868</td>\n",
       "    </tr>\n",
       "    <tr>\n",
       "      <th>std</th>\n",
       "      <td>8007.322974</td>\n",
       "      <td>0.216293</td>\n",
       "      <td>0.397592</td>\n",
       "      <td>0.132476</td>\n",
       "    </tr>\n",
       "    <tr>\n",
       "      <th>min</th>\n",
       "      <td>8.000000</td>\n",
       "      <td>0.000000</td>\n",
       "      <td>0.000000</td>\n",
       "      <td>0.000000</td>\n",
       "    </tr>\n",
       "    <tr>\n",
       "      <th>25%</th>\n",
       "      <td>7362.500000</td>\n",
       "      <td>0.000000</td>\n",
       "      <td>0.000000</td>\n",
       "      <td>0.000000</td>\n",
       "    </tr>\n",
       "    <tr>\n",
       "      <th>50%</th>\n",
       "      <td>14314.000000</td>\n",
       "      <td>0.000000</td>\n",
       "      <td>0.000000</td>\n",
       "      <td>0.000000</td>\n",
       "    </tr>\n",
       "    <tr>\n",
       "      <th>75%</th>\n",
       "      <td>20790.500000</td>\n",
       "      <td>0.000000</td>\n",
       "      <td>0.000000</td>\n",
       "      <td>0.000000</td>\n",
       "    </tr>\n",
       "    <tr>\n",
       "      <th>max</th>\n",
       "      <td>28164.000000</td>\n",
       "      <td>1.000000</td>\n",
       "      <td>1.000000</td>\n",
       "      <td>1.000000</td>\n",
       "    </tr>\n",
       "  </tbody>\n",
       "</table>\n",
       "</div>"
      ],
      "text/plain": [
       "                 ID      Surprise         Anger          Fear\n",
       "count  20651.000000  20650.000000  20650.000000  20651.000000\n",
       "mean   14128.574113      0.049201      0.196804      0.017868\n",
       "std     8007.322974      0.216293      0.397592      0.132476\n",
       "min        8.000000      0.000000      0.000000      0.000000\n",
       "25%     7362.500000      0.000000      0.000000      0.000000\n",
       "50%    14314.000000      0.000000      0.000000      0.000000\n",
       "75%    20790.500000      0.000000      0.000000      0.000000\n",
       "max    28164.000000      1.000000      1.000000      1.000000"
      ]
     },
     "execution_count": 16,
     "metadata": {},
     "output_type": "execute_result"
    }
   ],
   "source": [
    "df.describe()"
   ]
  },
  {
   "cell_type": "code",
   "execution_count": 45,
   "metadata": {},
   "outputs": [
    {
     "name": "stdout",
     "output_type": "stream",
     "text": [
      "Clean descriptions:\n",
      "0                                লকাল বাস ভালো এটা থেকে\n",
      "1     কত অভিজানই তো চলে কিন্তু ওয়াসার পানির অভিজান ...\n",
      "2     বিয়ের মহল ছেড়ে তিনি বিস্রাম নিতে চলে যান  নং...\n",
      "3                      চাচাজি তো কেবল মাকে ধর্ষণ করেছেন\n",
      "4                              সত্যিকার মানুষ তারাই ভাই\n",
      "5                       ভালবাসা আরো হাগার গুণ বেড়ে গেল\n",
      "6     ভাই নিজের সফটওয়্যার গুলোর প্রচার সহজে করে ফেল...\n",
      "7     স্যার আমি আপনার এই নিয়ম এ স্কুল এ লিখেছিলাম ক...\n",
      "8                      খেলতে না পারলে এটাই বলে বাংলাদেশ\n",
      "9                            নিজ হাতে গড়া মোর কাঁচা ঘর\n",
      "10      অসাধারণ ধন্যবাদ অমি ভাই সহ পুরো ব্যাচেলর টিম কে\n",
      "11                                   বাহ গানটা তো মজার \n",
      "12    রানা ভাইরাল হইছে বলেতার পড়ালেখার খরচ নিতে চাচ...\n",
      "13    আমি বুঝি  আমি যখন কলেজে দ্বিতীয় বর্ষে তখন তো ...\n",
      "14      ভালোবাসার আরেক নাম প্রিয় নবী হযরত মুহাম্মদ  সা\n",
      "Name: clean_description, dtype: object\n"
     ]
    }
   ],
   "source": [
    "# Clean text using bnlp library\n",
    "from bnlp import CleanText\n",
    "\n",
    "clean_text = CleanText(\n",
    "   fix_unicode=True,\n",
    "   unicode_norm=True,\n",
    "   unicode_norm_form=\"NFKC\",\n",
    "   remove_url=True,\n",
    "   remove_email=True,\n",
    "   remove_emoji=True,\n",
    "   remove_number=True,\n",
    "   remove_digits=True,\n",
    "   remove_punct=True,\n",
    "   replace_with_url=\"\",\n",
    "   replace_with_email=\"\",\n",
    "   replace_with_number=\"\",\n",
    "   replace_with_digit=\"\",\n",
    "   replace_with_punct = \"\"\n",
    ")\n",
    "\n",
    "df['clean_description'] = df['Data'].apply(clean_text)\n",
    "print(\"Clean descriptions:\")\n",
    "print(df['clean_description'].head(15))"
   ]
  },
  {
   "cell_type": "code",
   "execution_count": 46,
   "metadata": {},
   "outputs": [
    {
     "name": "stdout",
     "output_type": "stream",
     "text": [
      "Clean descriptions:\n",
      "0                                         লকাল বাস ভালো\n",
      "1                          অভিজানই ওয়াসার পানির অভিজান\n",
      "2     বিয়ের মহল ছেড়ে বিস্রাম নং ছবি বিয়ের মারা নব...\n",
      "3                                চাচাজি কেবল মাকে ধর্ষণ\n",
      "4                              সত্যিকার মানুষ তারাই ভাই\n",
      "5                           ভালবাসা আরো হাগার গুণ বেড়ে\n",
      "6         ভাই সফটওয়্যার গুলোর প্রচার সহজে ফেলছেন ভালোই\n",
      "7               স্যার নিয়ম স্কুল লিখেছিলাম কিন্তূ কেটে\n",
      "8                                  খেলতে পারলে বাংলাদেশ\n",
      "9                            নিজ হাতে গড়া মোর কাঁচা ঘর\n",
      "10            অসাধারণ ধন্যবাদ অমি ভাই পুরো ব্যাচেলর টিম\n",
      "11                                       বাহ গানটা মজার\n",
      "12         রানা ভাইরাল হইছে বলেতার পড়ালেখার খরচ চাচ্ছো\n",
      "13         বুঝি কলেজে দ্বিতীয় বর্ষে গরিব ছেলেদের কলেজে\n",
      "14       ভালোবাসার আরেক নাম প্রিয় নবী হযরত মুহাম্মদ সা\n",
      "Name: clean_description, dtype: object\n"
     ]
    }
   ],
   "source": [
    "# Removing Bangla stopwords\n",
    "from bnlp import BengaliCorpus as corpus\n",
    "\n",
    "# Define Bangla stopwords\n",
    "bangla_stopwords=set(corpus.stopwords)\n",
    "\n",
    "df['clean_description'] = df['clean_description'].apply(lambda x: ' '.join([w for w in x.split() if w not in bangla_stopwords]))\n",
    "print(\"Clean descriptions:\")\n",
    "print(df['clean_description'].head(15))"
   ]
  },
  {
   "cell_type": "code",
   "execution_count": 50,
   "metadata": {},
   "outputs": [
    {
     "name": "stdout",
     "output_type": "stream",
     "text": [
      "Clean descriptions:\n",
      "0                                     [লকাল, বাস, ভালো]\n",
      "1                     [অভিজানই, ওয়াসার, পানির, অভিজান]\n",
      "2     [বিয়ের, মহল, ছেড়ে, বিস্রাম, নং, ছবি, বিয়ের,...\n",
      "3                           [চাচাজি, কেবল, মাকে, ধর্ষণ]\n",
      "4                         [সত্যিকার, মানুষ, তারাই, ভাই]\n",
      "5                     [ভালবাসা, আরো, হাগার, গুণ, বেড়ে]\n",
      "6     [ভাই, সফটওয়্যার, গুলোর, প্রচার, সহজে, ফেলছেন,...\n",
      "7        [স্যার, নিয়ম, স্কুল, লিখেছিলাম, কিন্তূ, কেটে]\n",
      "8                              [খেলতে, পারলে, বাংলাদেশ]\n",
      "9                     [নিজ, হাতে, গড়া, মোর, কাঁচা, ঘর]\n",
      "10    [অসাধারণ, ধন্যবাদ, অমি, ভাই, পুরো, ব্যাচেলর, টিম]\n",
      "11                                   [বাহ, গানটা, মজার]\n",
      "12    [রানা, ভাইরাল, হইছে, বলেতার, পড়ালেখার, খরচ, চ...\n",
      "13    [বুঝি, কলেজে, দ্বিতীয়, বর্ষে, গরিব, ছেলেদের, ...\n",
      "14    [ভালোবাসার, আরেক, নাম, প্রিয়, নবী, হযরত, মুহা...\n",
      "Name: clean_description, dtype: object\n"
     ]
    }
   ],
   "source": [
    "from bnlp import NLTKTokenizer\n",
    "\n",
    "bnltk = NLTKTokenizer()\n",
    "\n",
    "df['clean_description'] = df['clean_description'].apply(bnltk.word_tokenize)\n",
    "print(\"Clean descriptions:\")\n",
    "print(df['clean_description'].head(15))"
   ]
  },
  {
   "cell_type": "code",
   "execution_count": null,
   "metadata": {},
   "outputs": [],
   "source": []
  }
 ],
 "metadata": {
  "kernelspec": {
   "display_name": "Python 3",
   "language": "python",
   "name": "python3"
  },
  "language_info": {
   "codemirror_mode": {
    "name": "ipython",
    "version": 3
   },
   "file_extension": ".py",
   "mimetype": "text/x-python",
   "name": "python",
   "nbconvert_exporter": "python",
   "pygments_lexer": "ipython3",
   "version": "3.10.9"
  }
 },
 "nbformat": 4,
 "nbformat_minor": 2
}
